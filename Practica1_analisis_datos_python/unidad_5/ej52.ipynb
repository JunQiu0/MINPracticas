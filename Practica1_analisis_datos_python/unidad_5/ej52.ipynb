{
 "cells": [
  {
   "cell_type": "markdown",
   "metadata": {},
   "source": [
    "<div id=\"navegacion\" prev=\"../Tema_7/t7_pandas_034.html\" next=\"\"></div>\n",
    "\n",
    "<div class=\"section-title\">Sección 5.5</div>"
   ]
  },
  {
   "cell_type": "markdown",
   "metadata": {},
   "source": [
    "# Ejercicios "
   ]
  },
  {
   "cell_type": "markdown",
   "metadata": {
    "collapsed": true
   },
   "source": [
    "## Ejercicio 1"
   ]
  },
  {
   "cell_type": "markdown",
   "metadata": {},
   "source": [
    "El fichero [pedidos.csv](./datos/pedidos.csv) recoge los datos de los pedidos de una empresa en su último trimestre. Cada pedido puede tener distintas lineas de pedido, donde cada línea representa un producto.\n",
    "\n",
    "La información del fichero por columnas es: \n",
    "* Número de pedido\n",
    "* Linea de pedido\n",
    "* Producto\n",
    "* Cantidad\n",
    "* Precio unitario en Euros (separador de decimales = ',')\n",
    "\n",
    "\n",
    "\n",
    "__a)__ Carga los datos en un DataFrame con la función `read_csv`. \n",
    "\n",
    "* El índice del DataFrame ha de ser el número de pedido.\n",
    "* Para ver las opcciones de la función `read_csv` ejecuta la siguiente celda:"
   ]
  },
  {
   "cell_type": "code",
   "execution_count": 1,
   "metadata": {
    "ExecuteTime": {
     "end_time": "2019-01-06T09:06:06.881243Z",
     "start_time": "2019-01-06T09:06:03.708000Z"
    }
   },
   "outputs": [],
   "source": [
    "import pandas as pd\n",
    "pd.read_excel?"
   ]
  },
  {
   "cell_type": "code",
   "execution_count": 2,
   "metadata": {
    "ExecuteTime": {
     "end_time": "2019-01-06T09:06:16.802568Z",
     "start_time": "2019-01-06T09:06:16.799101Z"
    }
   },
   "outputs": [],
   "source": [
    "# Sol:\n"
   ]
  },
  {
   "cell_type": "markdown",
   "metadata": {},
   "source": [
    "__b)__ Modifica los valores del precio unitario a 0 cuando el valor sea NaN."
   ]
  },
  {
   "cell_type": "code",
   "execution_count": 2,
   "metadata": {
    "ExecuteTime": {
     "end_time": "2019-01-06T09:06:16.802568Z",
     "start_time": "2019-01-06T09:06:16.799101Z"
    }
   },
   "outputs": [],
   "source": [
    "# Sol:\n"
   ]
  },
  {
   "cell_type": "markdown",
   "metadata": {},
   "source": [
    "\n",
    "__c)__ Calcula el número de pedido (o pedidos) que contengan el producto más caro."
   ]
  },
  {
   "cell_type": "code",
   "execution_count": 2,
   "metadata": {
    "ExecuteTime": {
     "end_time": "2019-01-06T09:06:16.802568Z",
     "start_time": "2019-01-06T09:06:16.799101Z"
    }
   },
   "outputs": [],
   "source": [
    "# Sol:\n"
   ]
  },
  {
   "cell_type": "markdown",
   "metadata": {},
   "source": [
    "__d)__ ¿Qué productos aparecen en los pedidos del dataset? Usa `unique`.\n"
   ]
  },
  {
   "cell_type": "code",
   "execution_count": 3,
   "metadata": {
    "ExecuteTime": {
     "end_time": "2019-01-06T09:06:17.931605Z",
     "start_time": "2019-01-06T09:06:17.928598Z"
    }
   },
   "outputs": [],
   "source": [
    "# Sol:\n"
   ]
  },
  {
   "cell_type": "markdown",
   "metadata": {},
   "source": [
    "__e)__ ¿Cúantas veces aparece cada producto en el dataset? Usa `value_counts`."
   ]
  },
  {
   "cell_type": "code",
   "execution_count": 5,
   "metadata": {
    "ExecuteTime": {
     "end_time": "2019-01-06T09:06:20.570092Z",
     "start_time": "2019-01-06T09:06:20.567116Z"
    }
   },
   "outputs": [],
   "source": [
    "# Sol:\n"
   ]
  },
  {
   "cell_type": "markdown",
   "metadata": {},
   "source": [
    "__f)__ Crea una nueva columna llamada `total_linea` que sea el importe total de la línea de pedido (precio unitario multiplicado por la cantidad)."
   ]
  },
  {
   "cell_type": "code",
   "execution_count": 6,
   "metadata": {
    "ExecuteTime": {
     "end_time": "2019-01-06T09:06:21.674433Z",
     "start_time": "2019-01-06T09:06:21.670961Z"
    }
   },
   "outputs": [],
   "source": [
    "# Sol:\n"
   ]
  },
  {
   "cell_type": "markdown",
   "metadata": {},
   "source": [
    "__g)__ Incrementa el precio de las líneas de pedido un 10% para aquellos productos cuyo precio sea superior a 80 Euros. Para ello crea una nueva columna llamada `Descuento`.\n",
    "\n",
    "* Crea una función que reciba como parámetro un valor de tipo entero que representa el precio. Si dicho valor es mayor de 80, la función lo devuelve incrementado en un 10%. Si el valor es menor o igual a 80, la función devuelve dicho valor sin cambios. \n",
    "* Aplica la función anterior usando  `map` sobre la columna `precio`."
   ]
  },
  {
   "cell_type": "code",
   "execution_count": 6,
   "metadata": {
    "ExecuteTime": {
     "end_time": "2019-01-06T09:06:21.674433Z",
     "start_time": "2019-01-06T09:06:21.670961Z"
    }
   },
   "outputs": [],
   "source": [
    "# Sol:\n"
   ]
  },
  {
   "cell_type": "code",
   "execution_count": null,
   "metadata": {},
   "outputs": [],
   "source": []
  }
 ],
 "metadata": {
  "anaconda-cloud": {},
  "kernelspec": {
   "display_name": "Python 3",
   "language": "python",
   "name": "python3"
  },
  "language_info": {
   "codemirror_mode": {
    "name": "ipython",
    "version": 3
   },
   "file_extension": ".py",
   "mimetype": "text/x-python",
   "name": "python",
   "nbconvert_exporter": "python",
   "pygments_lexer": "ipython3",
   "version": "3.6.6"
  },
  "nbTranslate": {
   "displayLangs": [
    "en",
    "es"
   ],
   "hotkey": "alt-t",
   "langInMainMenu": true,
   "sourceLang": "es",
   "targetLang": "en",
   "useGoogleTranslate": true
  },
  "toc": {
   "nav_menu": {
    "height": "86px",
    "width": "252px"
   },
   "number_sections": true,
   "sideBar": true,
   "skip_h1_title": false,
   "title_cell": "Table of Contents",
   "title_sidebar": "Contents",
   "toc_cell": false,
   "toc_position": {},
   "toc_section_display": "block",
   "toc_window_display": false
  }
 },
 "nbformat": 4,
 "nbformat_minor": 1
}
