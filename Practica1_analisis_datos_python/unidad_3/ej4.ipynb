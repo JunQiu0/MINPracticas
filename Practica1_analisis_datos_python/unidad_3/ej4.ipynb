{
 "cells": [
  {
   "cell_type": "markdown",
   "metadata": {},
   "source": [
    "<div id=\"navegacion\" prev=\"../Ejercicios_Tema_6/uso_numpy.html\" next=\"\"></div>\n",
    "\n",
    "<div class=\"section-title\">Sección 3.7</div>"
   ]
  },
  {
   "cell_type": "markdown",
   "metadata": {},
   "source": [
    "# Ejercicios "
   ]
  },
  {
   "cell_type": "markdown",
   "metadata": {},
   "source": [
    "Los enlaces que te encuentres en esta página, solo funcionan desde el formato html, no desde el notebook una vez descargado."
   ]
  },
  {
   "cell_type": "markdown",
   "metadata": {},
   "source": [
    "## Ejercicio 1"
   ]
  },
  {
   "cell_type": "markdown",
   "metadata": {},
   "source": [
    "El fichero [rotterdam_rainfall.txt](./datos/rotterdam_rainfall.txt) recoge los datos de las precipitaciones diarias de la estación meteorológica de Rotterdam en 2012.\n",
    "\n",
    "* La primera columna representa la fecha.\n",
    "* La segunda columna representa la cantidad de precipitaciones expresado en 0.1 mm (-1 si es menor a 0.05 mm).\n",
    "* El separador de campos es el caracter `, `.\n",
    "\n",
    "__a)__ Crear un array de `numpy` con los datos del fichero [rotterdam_rainfall.txt](./datos/rotterdam_rainfall.txt). El array ha de llamarse `precipitaciones`.\n",
    "\n",
    "   * Descarga el fichero  en tu directorio de trabajo.\n",
    "   * Carga el fichero mediante la función `loadtxt`. Usa el parámetro  `delimiter` con valor `,`. Usa el parámetro `dtype` para indicar que los valores sean de tipo `int`."
   ]
  },
  {
   "cell_type": "code",
   "execution_count": 29,
   "metadata": {
    "ExecuteTime": {
     "end_time": "2019-01-04T12:42:48.443665Z",
     "start_time": "2019-01-04T12:42:48.439687Z"
    }
   },
   "outputs": [],
   "source": [
    "# Sol\n",
    "import numpy as np\n"
   ]
  },
  {
   "cell_type": "markdown",
   "metadata": {},
   "source": [
    "__b)__ Averigua el número de días donde la cantidad de precipitaciones es mayor a 0.05 mm (valor mayor que -1).\n",
    "    \n",
    "* Primero crea un filtro donde la cantidad de precipitaciones (columna 1) sea mayor que  -1.\n",
    "* Aplica el filtro al array `precipitaciones`. Guarda el resultado en un nuevo array llamado `precip_positivas`.\n",
    "* Puedes usar la función `len` para calcular el tamaño del array  `precip_positivas`."
   ]
  },
  {
   "cell_type": "code",
   "execution_count": 22,
   "metadata": {
    "ExecuteTime": {
     "end_time": "2019-01-04T12:33:01.218423Z",
     "start_time": "2019-01-04T12:33:01.214952Z"
    }
   },
   "outputs": [],
   "source": [
    "# Sol: 324 días \n",
    "\n"
   ]
  },
  {
   "cell_type": "markdown",
   "metadata": {},
   "source": [
    "\n",
    "__c)__ Calcula el valor medio de la cantidad de precipitación. No tengas en cuenta las precipitaciones con valor -1, por tanto usa el array `precip_positivas` para calcular dicho valor medio.\n",
    "\n",
    "   * Utiliza la función `mean`.\n",
    "    \n"
   ]
  },
  {
   "cell_type": "code",
   "execution_count": 23,
   "metadata": {
    "ExecuteTime": {
     "end_time": "2019-01-04T12:33:15.640829Z",
     "start_time": "2019-01-04T12:33:15.638352Z"
    }
   },
   "outputs": [],
   "source": [
    "# Sol: 30.700617283950617\n",
    "\n"
   ]
  },
  {
   "cell_type": "markdown",
   "metadata": {},
   "source": [
    "__d)__ Calcula el día que ha tenido mayor cantidad de precipitación y la cantidad de precipitación.\n",
    "\n",
    "   * Utiliza las funciones `argmax` y `max`."
   ]
  },
  {
   "cell_type": "code",
   "execution_count": 24,
   "metadata": {
    "ExecuteTime": {
     "end_time": "2019-01-04T12:33:19.858674Z",
     "start_time": "2019-01-04T12:33:19.854677Z"
    }
   },
   "outputs": [],
   "source": [
    "# Sol: Máxima precipitación: 224. \n",
    "#      Día de máxima precipitación : 20121222\n"
   ]
  },
  {
   "cell_type": "markdown",
   "metadata": {},
   "source": [
    "__e)__ Expresa la cantidad de precipitación en mm. Para ello multiplica la cantidad de precipitación por 10.\n",
    "\n",
    "   "
   ]
  },
  {
   "cell_type": "code",
   "execution_count": 28,
   "metadata": {
    "ExecuteTime": {
     "end_time": "2019-01-04T12:41:22.993269Z",
     "start_time": "2019-01-04T12:41:22.990293Z"
    }
   },
   "outputs": [],
   "source": [
    "# Sol: Los primeros valores del resultado son:\n",
    "\n",
    "#    array([[20120101,     2070],\n",
    "#           [20120102,      -10],\n",
    "#           [20120103,     1440],\n",
    "#           [20120104,      360],\n",
    "#            ...\n",
    "#            ...\n",
    "\n",
    "\n"
   ]
  },
  {
   "cell_type": "markdown",
   "metadata": {},
   "source": [
    "## Ejercicio 2"
   ]
  },
  {
   "cell_type": "markdown",
   "metadata": {},
   "source": [
    "Dos niños están haciendo una colección de cromos. Cada cromo tiene asignado un número entero entre 1 y 200.\n",
    "\n",
    "* Los cromos que tiene Juan se encuentran en el fichero [juan.txt](./datos/col_juan.txt). La primera columna representa el número asociado al cromo y la segunda columna representa el número de cromos con ese número que tiene Juan.\n",
    "\n",
    "* Los cromos que tiene Pedro se encuentran en el fichero [pedro.txt](./datos/col_pedro.txt). La primera columna representa el número asociado al cromo y la segunda columna representa el número de cromos con ese número que tiene Pedro.\n",
    "\n",
    "__a)__ Crear un array de `numpy` con los datos de cada una de las colecciones. Los arrays han de llamarse `juan`y `pedro`.\n",
    "\n",
    "   * Descarga los ficheros  en tu directorio de trabajo.\n",
    "   * Carga cada uno de los ficheros mediante la función `loadtxt`. Usa el parámetro  `delimiter` con valor `,`. Usa el parámetro `dtype` para indicar que los valores sean de tipo `int`."
   ]
  },
  {
   "cell_type": "code",
   "execution_count": 119,
   "metadata": {
    "ExecuteTime": {
     "end_time": "2019-01-04T13:46:15.191779Z",
     "start_time": "2019-01-04T13:46:15.182881Z"
    }
   },
   "outputs": [],
   "source": [
    "# Sol: \n"
   ]
  },
  {
   "cell_type": "markdown",
   "metadata": {},
   "source": [
    "__b)__ Calcula el número de cromos diferentes que tiene cada niño. "
   ]
  },
  {
   "cell_type": "code",
   "execution_count": 1,
   "metadata": {
    "ExecuteTime": {
     "end_time": "2019-01-04T13:59:53.267589Z",
     "start_time": "2019-01-04T13:59:53.264120Z"
    }
   },
   "outputs": [],
   "source": [
    "# SOl: \n",
    "# juan tiene 68 cromos\n",
    "# pedro tiene 124 cromos\n",
    "\n"
   ]
  },
  {
   "cell_type": "markdown",
   "metadata": {},
   "source": [
    "__c)__ Calcula el número de cromos totales que tiene cada niño (contando los cromos repetidos). "
   ]
  },
  {
   "cell_type": "code",
   "execution_count": 2,
   "metadata": {
    "ExecuteTime": {
     "end_time": "2019-01-04T13:59:59.450302Z",
     "start_time": "2019-01-04T13:59:59.447330Z"
    }
   },
   "outputs": [],
   "source": [
    "# SOl: \n",
    "# pedro tiene 1326 cromos \n",
    "# juan tiene 619 cromos\n",
    "\n"
   ]
  },
  {
   "cell_type": "markdown",
   "metadata": {},
   "source": [
    "__d)__ Calcula el número de cromos que aparecen en las dos colecciones. Puedes usar la función `np.intersect1d`."
   ]
  },
  {
   "cell_type": "code",
   "execution_count": 1,
   "metadata": {
    "ExecuteTime": {
     "end_time": "2019-01-04T14:00:50.965063Z",
     "start_time": "2019-01-04T14:00:50.960103Z"
    }
   },
   "outputs": [],
   "source": [
    "# Sol\n",
    "# Hay 44 cromos que aparecen en las dos colecciones\n"
   ]
  },
  {
   "cell_type": "markdown",
   "metadata": {},
   "source": [
    "__e)__ Entre los dos niños, ¿forman la colección completa?. Puedes usar la función `np.union1d`."
   ]
  },
  {
   "cell_type": "code",
   "execution_count": 6,
   "metadata": {
    "ExecuteTime": {
     "end_time": "2019-01-04T14:01:31.596336Z",
     "start_time": "2019-01-04T14:01:31.592867Z"
    }
   },
   "outputs": [],
   "source": [
    "# Sol: \n",
    "# No Forman la colección completa. Entre los dos, solo tienen 148 cromos distintos y la colección tiene 200 cromos\n",
    "\n"
   ]
  },
  {
   "cell_type": "markdown",
   "metadata": {},
   "source": [
    "__f)__ ¿Qué números faltan para tener la colección completa?\n",
    "\n",
    "* Puedes generar un array de todos los cromos de la colección con la función `arange`.\n",
    "* Usa la función `np.in1d` "
   ]
  },
  {
   "cell_type": "code",
   "execution_count": 5,
   "metadata": {
    "ExecuteTime": {
     "end_time": "2019-01-04T14:01:07.241500Z",
     "start_time": "2019-01-04T14:01:07.238035Z"
    }
   },
   "outputs": [],
   "source": [
    "# Sol:\n",
    "# Listado de los cromos que faltan:\n",
    "#      [  1,   3,  12,  16,  17,  21,  30,  34,  38,  45,  46,  48,  52,\n",
    "#        55,  66,  69,  72,  75,  76,  81,  82,  91,  92,  96, 100, 106,\n",
    "#       107, 113, 114, 119, 122, 124, 125, 129, 138, 139, 140, 146, 151,\n",
    "#       154, 155, 173, 176, 180, 181, 184, 185, 186, 190, 194, 199, 200]\n",
    "    \n"
   ]
  },
  {
   "cell_type": "markdown",
   "metadata": {},
   "source": [
    "---------------------"
   ]
  }
 ],
 "metadata": {
  "anaconda-cloud": {},
  "kernelspec": {
   "display_name": "Python 3",
   "language": "python",
   "name": "python3"
  },
  "language_info": {
   "codemirror_mode": {
    "name": "ipython",
    "version": 3
   },
   "file_extension": ".py",
   "mimetype": "text/x-python",
   "name": "python",
   "nbconvert_exporter": "python",
   "pygments_lexer": "ipython3",
   "version": "3.6.6"
  },
  "nbTranslate": {
   "displayLangs": [
    "en",
    "es"
   ],
   "hotkey": "alt-t",
   "langInMainMenu": true,
   "sourceLang": "es",
   "targetLang": "en",
   "useGoogleTranslate": true
  },
  "toc": {
   "nav_menu": {
    "height": "68px",
    "width": "252px"
   },
   "number_sections": true,
   "sideBar": true,
   "skip_h1_title": false,
   "title_cell": "Table of Contents",
   "title_sidebar": "Contents",
   "toc_cell": false,
   "toc_position": {},
   "toc_section_display": "block",
   "toc_window_display": false
  }
 },
 "nbformat": 4,
 "nbformat_minor": 1
}
