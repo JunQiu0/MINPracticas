{
 "cells": [
  {
   "cell_type": "markdown",
   "metadata": {},
   "source": [
    "\n",
    "<div id=\"navegacion\" prev=\"../Ejercicios_Tema_7/ej6.html\" next=\"\"></div>\n",
    "\n",
    "<div class=\"section-title\">Sección 6.5</div>"
   ]
  },
  {
   "cell_type": "markdown",
   "metadata": {},
   "source": [
    "#  Movilens 1M"
   ]
  },
  {
   "cell_type": "markdown",
   "metadata": {},
   "source": [
    "\n",
    "Movilens Dataset recoge datos de 6000 usuarios y 4000  películas. La información se distribuye en 3 tablas.\n",
    "\n",
    "- [ratings.dat](./ml-1m/ratings.dat) - El fichero recoge datos de valoraciones  de los usuarios. Las columnas son: Usuario, MovieID, Puntuación, Fecha.\n",
    "\n",
    "- [movies.dat](./ml-1m/movies.dat) - Datos de las películas. Las columnas son: MovieID, Titulo, Género\n",
    "- [users.dat](./ml-1m/users.dat) - Datos personales de los usuarios. Las columnas son: Usuario, Sexo, Edad, Ocupación, ZipCode.\n",
    "\n",
    "\n",
    "Toda esta información se utiliza con mucha frecuencia en los sistemas de recomendación que aplican algoritmos de aprendizaje.\n",
    "La información del contenido de los ficheros la puedes encontrar en el enlace [README](./ml-1m/README).\n"
   ]
  },
  {
   "cell_type": "markdown",
   "metadata": {},
   "source": [
    "## Importar datos"
   ]
  },
  {
   "cell_type": "markdown",
   "metadata": {},
   "source": [
    "Crear un DataFrame para cada uno de los ficheros.  Usar la función `head()` para visualizar los primeros datos.\n",
    "El fichero ratings tiene un campo de tipo fecha. Usa el parámetro `parse_dates` para cargar de forma adecuada las fechas."
   ]
  },
  {
   "cell_type": "code",
   "execution_count": 1,
   "metadata": {
    "ExecuteTime": {
     "end_time": "2018-10-29T11:18:56.651038Z",
     "start_time": "2018-10-29T11:18:56.638638Z"
    }
   },
   "outputs": [
    {
     "data": {
      "text/html": [
       "<div>\n",
       "<style scoped>\n",
       "    .dataframe tbody tr th:only-of-type {\n",
       "        vertical-align: middle;\n",
       "    }\n",
       "\n",
       "    .dataframe tbody tr th {\n",
       "        vertical-align: top;\n",
       "    }\n",
       "\n",
       "    .dataframe thead th {\n",
       "        text-align: right;\n",
       "    }\n",
       "</style>\n",
       "<table border=\"1\" class=\"dataframe\">\n",
       "  <thead>\n",
       "    <tr style=\"text-align: right;\">\n",
       "      <th></th>\n",
       "      <th>id</th>\n",
       "      <th>genero</th>\n",
       "      <th>año</th>\n",
       "      <th>ocupacion</th>\n",
       "      <th>zipcode</th>\n",
       "    </tr>\n",
       "  </thead>\n",
       "  <tbody>\n",
       "    <tr>\n",
       "      <th>0</th>\n",
       "      <td>1</td>\n",
       "      <td>F</td>\n",
       "      <td>1</td>\n",
       "      <td>10</td>\n",
       "      <td>48067</td>\n",
       "    </tr>\n",
       "    <tr>\n",
       "      <th>1</th>\n",
       "      <td>2</td>\n",
       "      <td>M</td>\n",
       "      <td>56</td>\n",
       "      <td>16</td>\n",
       "      <td>70072</td>\n",
       "    </tr>\n",
       "    <tr>\n",
       "      <th>2</th>\n",
       "      <td>3</td>\n",
       "      <td>M</td>\n",
       "      <td>25</td>\n",
       "      <td>15</td>\n",
       "      <td>55117</td>\n",
       "    </tr>\n",
       "    <tr>\n",
       "      <th>3</th>\n",
       "      <td>4</td>\n",
       "      <td>M</td>\n",
       "      <td>45</td>\n",
       "      <td>7</td>\n",
       "      <td>02460</td>\n",
       "    </tr>\n",
       "    <tr>\n",
       "      <th>4</th>\n",
       "      <td>5</td>\n",
       "      <td>M</td>\n",
       "      <td>25</td>\n",
       "      <td>20</td>\n",
       "      <td>55455</td>\n",
       "    </tr>\n",
       "  </tbody>\n",
       "</table>\n",
       "</div>"
      ],
      "text/plain": [
       "   id genero  año  ocupacion zipcode\n",
       "0   1      F    1         10   48067\n",
       "1   2      M   56         16   70072\n",
       "2   3      M   25         15   55117\n",
       "3   4      M   45          7   02460\n",
       "4   5      M   25         20   55455"
      ]
     },
     "execution_count": 1,
     "metadata": {},
     "output_type": "execute_result"
    }
   ],
   "source": [
    "# Sol:\n",
    "import pandas as pd\n",
    "\n",
    "colum_name = [\"id\", \"genero\", \"año\", \"ocupacion\", \"zipcode\"]\n",
    "usuarios = pd.read_csv(\"users.dat\", sep=\":\", names =colum_name)\n",
    "usuarios.head(5)"
   ]
  },
  {
   "cell_type": "code",
   "execution_count": 2,
   "metadata": {},
   "outputs": [
    {
     "data": {
      "text/html": [
       "<div>\n",
       "<style scoped>\n",
       "    .dataframe tbody tr th:only-of-type {\n",
       "        vertical-align: middle;\n",
       "    }\n",
       "\n",
       "    .dataframe tbody tr th {\n",
       "        vertical-align: top;\n",
       "    }\n",
       "\n",
       "    .dataframe thead th {\n",
       "        text-align: right;\n",
       "    }\n",
       "</style>\n",
       "<table border=\"1\" class=\"dataframe\">\n",
       "  <thead>\n",
       "    <tr style=\"text-align: right;\">\n",
       "      <th></th>\n",
       "      <th>id</th>\n",
       "      <th>titulo</th>\n",
       "      <th>tipo</th>\n",
       "    </tr>\n",
       "  </thead>\n",
       "  <tbody>\n",
       "    <tr>\n",
       "      <th>0</th>\n",
       "      <td>1</td>\n",
       "      <td>Toy Story (1995)</td>\n",
       "      <td>Animation|Children's|Comedy</td>\n",
       "    </tr>\n",
       "    <tr>\n",
       "      <th>1</th>\n",
       "      <td>2</td>\n",
       "      <td>Jumanji (1995)</td>\n",
       "      <td>Adventure|Children's|Fantasy</td>\n",
       "    </tr>\n",
       "    <tr>\n",
       "      <th>2</th>\n",
       "      <td>3</td>\n",
       "      <td>Grumpier Old Men (1995)</td>\n",
       "      <td>Comedy|Romance</td>\n",
       "    </tr>\n",
       "    <tr>\n",
       "      <th>3</th>\n",
       "      <td>4</td>\n",
       "      <td>Waiting to Exhale (1995)</td>\n",
       "      <td>Comedy|Drama</td>\n",
       "    </tr>\n",
       "    <tr>\n",
       "      <th>4</th>\n",
       "      <td>5</td>\n",
       "      <td>Father of the Bride Part II (1995)</td>\n",
       "      <td>Comedy</td>\n",
       "    </tr>\n",
       "  </tbody>\n",
       "</table>\n",
       "</div>"
      ],
      "text/plain": [
       "   id                              titulo                          tipo\n",
       "0   1                    Toy Story (1995)   Animation|Children's|Comedy\n",
       "1   2                      Jumanji (1995)  Adventure|Children's|Fantasy\n",
       "2   3             Grumpier Old Men (1995)                Comedy|Romance\n",
       "3   4            Waiting to Exhale (1995)                  Comedy|Drama\n",
       "4   5  Father of the Bride Part II (1995)                        Comedy"
      ]
     },
     "execution_count": 2,
     "metadata": {},
     "output_type": "execute_result"
    }
   ],
   "source": [
    "colum_name = [\"id\", \"titulo\", \"tipo\"]\n",
    "peliculas = pd.read_csv(\"movies.dat\", sep=':', names=colum_name)\n",
    "peliculas.head(5)"
   ]
  },
  {
   "cell_type": "code",
   "execution_count": 13,
   "metadata": {},
   "outputs": [
    {
     "data": {
      "text/html": [
       "<div>\n",
       "<style scoped>\n",
       "    .dataframe tbody tr th:only-of-type {\n",
       "        vertical-align: middle;\n",
       "    }\n",
       "\n",
       "    .dataframe tbody tr th {\n",
       "        vertical-align: top;\n",
       "    }\n",
       "\n",
       "    .dataframe thead th {\n",
       "        text-align: right;\n",
       "    }\n",
       "</style>\n",
       "<table border=\"1\" class=\"dataframe\">\n",
       "  <thead>\n",
       "    <tr style=\"text-align: right;\">\n",
       "      <th></th>\n",
       "      <th>uid</th>\n",
       "      <th>pid</th>\n",
       "      <th>valoracion</th>\n",
       "      <th>fecha</th>\n",
       "    </tr>\n",
       "  </thead>\n",
       "  <tbody>\n",
       "    <tr>\n",
       "      <th>0</th>\n",
       "      <td>1139</td>\n",
       "      <td>377</td>\n",
       "      <td>4</td>\n",
       "      <td>2000-11-22 08:29:17</td>\n",
       "    </tr>\n",
       "    <tr>\n",
       "      <th>1</th>\n",
       "      <td>1524</td>\n",
       "      <td>3857</td>\n",
       "      <td>4</td>\n",
       "      <td>2000-11-20 19:57:23</td>\n",
       "    </tr>\n",
       "    <tr>\n",
       "      <th>2</th>\n",
       "      <td>4823</td>\n",
       "      <td>2987</td>\n",
       "      <td>3</td>\n",
       "      <td>2000-07-09 00:25:18</td>\n",
       "    </tr>\n",
       "    <tr>\n",
       "      <th>3</th>\n",
       "      <td>336</td>\n",
       "      <td>2105</td>\n",
       "      <td>5</td>\n",
       "      <td>2000-12-09 12:38:32</td>\n",
       "    </tr>\n",
       "    <tr>\n",
       "      <th>4</th>\n",
       "      <td>5131</td>\n",
       "      <td>1752</td>\n",
       "      <td>2</td>\n",
       "      <td>2000-06-27 20:32:25</td>\n",
       "    </tr>\n",
       "  </tbody>\n",
       "</table>\n",
       "</div>"
      ],
      "text/plain": [
       "    uid   pid  valoracion               fecha\n",
       "0  1139   377           4 2000-11-22 08:29:17\n",
       "1  1524  3857           4 2000-11-20 19:57:23\n",
       "2  4823  2987           3 2000-07-09 00:25:18\n",
       "3   336  2105           5 2000-12-09 12:38:32\n",
       "4  5131  1752           2 2000-06-27 20:32:25"
      ]
     },
     "execution_count": 13,
     "metadata": {},
     "output_type": "execute_result"
    }
   ],
   "source": [
    "colum_name = [\"uid\", \"pid\", \"valoracion\", \"fecha\"]\n",
    "valoraciones = pd.read_csv(\"ratings.dat\", sep= \":\", parse_dates= [3], names=colum_name)\n",
    "valoraciones.head(5)"
   ]
  },
  {
   "cell_type": "code",
   "execution_count": 14,
   "metadata": {},
   "outputs": [
    {
     "data": {
      "text/plain": [
       "dtype('<M8[ns]')"
      ]
     },
     "execution_count": 14,
     "metadata": {},
     "output_type": "execute_result"
    }
   ],
   "source": [
    "(valoraciones[\"fecha\"]).dtype"
   ]
  },
  {
   "cell_type": "markdown",
   "metadata": {},
   "source": [
    "## Valoraciones de X-Men"
   ]
  },
  {
   "cell_type": "markdown",
   "metadata": {},
   "source": [
    "Los usuarios valoran las películas con valores del 1 al 5 donde el 1 es la peor puntuación y 5 es la mejor. La puntuación es una variable categórica. Calcula el número de votos de cada tipo (la frecuencia de votos) de la película con título `X-Men (2000)`. \n",
    "\n"
   ]
  },
  {
   "cell_type": "code",
   "execution_count": 15,
   "metadata": {},
   "outputs": [
    {
     "data": {
      "text/plain": [
       "4    4\n",
       "5    3\n",
       "3    2\n",
       "2    1\n",
       "Name: valoracion, dtype: int64"
      ]
     },
     "execution_count": 15,
     "metadata": {},
     "output_type": "execute_result"
    }
   ],
   "source": [
    "# Sol:\n",
    "\n",
    "#Consultando id_peli de x-men(2000)\n",
    "pos = list(peliculas[\"titulo\"]).index(\"X-Men (2000)\")\n",
    "pid_x_men = peliculas[\"id\"][pos]\n",
    "pid_x_men\n",
    "\n",
    "#Filtrado la lista de valoraciones segun id de x-men, obviamente los que no sale en conteo tendía una frecuencia 0\n",
    "filtrado = valoraciones[valoraciones[\"pid\"] == pid_x_men]\n",
    "filtrado.valoracion.value_counts()"
   ]
  },
  {
   "cell_type": "markdown",
   "metadata": {
    "collapsed": true
   },
   "source": [
    "## Puntuación media"
   ]
  },
  {
   "cell_type": "markdown",
   "metadata": {},
   "source": [
    "Calcula la puntuación media  de cada película por sexo del usuario. Diseña una función llamada `puntuacion_media` que devuelve un Dataframe donde el índice es el título de la película y las columnaa son 'F' y 'M' (Female y Male respectivamente).\n",
    "\n",
    "__Nota__:\n",
    "\n",
    "Hay varias formas de hacerlo. Aquí os dejo alguna sugerencia:\n",
    "* Necesitamos combinar las tres tablas ya que tenemos, por un lado las valoraciones, por otro el título de la película y por otro el sexo de los usuarios. La operación `merge` te permitirá realizar la  combinación.\n",
    "    * Combina primero las valoraciones con las peliculas por el campo 'id_peli'.\n",
    "    * Combina el resultado anterior con los usuarios por el campo 'id_usuario'.\n",
    "    \n",
    "* Una vez combinadas las tres tablas en una sola tabla:\n",
    "    * solución 1:  Agrupar por `id_peli` y por `sexo` del usuario. La función de agregación es la media `mean()`. Para obtener la tabla pedida utiliza `unstack` para deshacer el multi índice.\n",
    "    * solución 2: Consulta la ayuda de la función `pivot_table`. Utiliza la función `pivot_table`. Merece la pena que intentéis resolverlo también utilizando esta opción.\n"
   ]
  },
  {
   "cell_type": "code",
   "execution_count": 29,
   "metadata": {
    "collapsed": true
   },
   "outputs": [
    {
     "name": "stdout",
     "output_type": "stream",
     "text": [
      "genero                                   F         M\n",
      "titulo                                              \n",
      "$1,000,000 Duck (1971)                 3.0  0.000000\n",
      "'Til There Was You (1997)              0.0  1.000000\n",
      "'burbs, The (1989)                     1.0  2.000000\n",
      "...And Justice for All (1979)          0.0  4.333333\n",
      "10 Things I Hate About You (1999)      4.2  4.500000\n",
      "...                                    ...       ...\n",
      "Young Poisoner's Handbook, The (1995)  0.0  3.000000\n",
      "Young Sherlock Holmes (1985)           0.0  3.666667\n",
      "Your Friends and Neighbors (1998)      0.0  4.000000\n",
      "Zed & Two Noughts, A (1985)            0.0  1.000000\n",
      "eXistenZ (1999)                        3.0  2.000000\n",
      "\n",
      "[2301 rows x 2 columns]\n"
     ]
    }
   ],
   "source": [
    "# Sol:\n",
    "#Suponiendo variables globales y que la función no recibe parámetros\n",
    "def puntuacion_media():\n",
    "    \"\"\"Calcula la puntuación media  de cada película por sexo del usuario\n",
    "    \n",
    "    Example:\n",
    "        >>> puntuacion_media()\n",
    "               \n",
    "        genero_u                            F          M\n",
    "        titulo \n",
    "        $1,000,000 Duck (1971)       3.375000    2.761905\n",
    "        'Night Mother (1986)         3.388889    3.352941\n",
    "        'Til There Was You (1997)    2.675676    2.733333\n",
    "\n",
    "        ...\n",
    "        ...\n",
    "    \n",
    "\"\"\"\n",
    "    # Merge de 3 tablas\n",
    "    mez = valoraciones.merge(peliculas, left_on= \"pid\", right_on= \"id\")\n",
    "    mez = mez.merge(usuarios, left_on= \"uid\", right_on= \"id\")\n",
    "    # Mean y unstack\n",
    "    result = mez.groupby(by=[\"titulo\", \"genero\"]).mean().unstack(level= [\"genero\"], fill_value=0.0)[\"valoracion\"]\n",
    "    print(result)\n",
    "\n",
    "puntuacion_media()"
   ]
  },
  {
   "cell_type": "code",
   "execution_count": 22,
   "metadata": {},
   "outputs": [
    {
     "name": "stdout",
     "output_type": "stream",
     "text": [
      "genero                                   F         M\n",
      "titulo                                              \n",
      "$1,000,000 Duck (1971)                 3.0  0.000000\n",
      "'Til There Was You (1997)              0.0  1.000000\n",
      "'burbs, The (1989)                     1.0  2.000000\n",
      "...And Justice for All (1979)          0.0  4.333333\n",
      "10 Things I Hate About You (1999)      4.2  4.500000\n",
      "...                                    ...       ...\n",
      "Young Poisoner's Handbook, The (1995)  0.0  3.000000\n",
      "Young Sherlock Holmes (1985)           0.0  3.666667\n",
      "Your Friends and Neighbors (1998)      0.0  4.000000\n",
      "Zed & Two Noughts, A (1985)            0.0  1.000000\n",
      "eXistenZ (1999)                        3.0  2.000000\n",
      "\n",
      "[2301 rows x 2 columns]\n"
     ]
    }
   ],
   "source": [
    "def puntuacion_media_2():\n",
    "    \"\"\"Calcula la puntuación media  de cada película por sexo del usuario\n",
    "    \n",
    "    Example:\n",
    "        >>> puntuacion_media()\n",
    "               \n",
    "        genero_u                            F          M\n",
    "        titulo \n",
    "        $1,000,000 Duck (1971)       3.375000    2.761905\n",
    "        'Night Mother (1986)         3.388889    3.352941\n",
    "        'Til There Was You (1997)    2.675676    2.733333\n",
    "\n",
    "        ...\n",
    "        ...\n",
    "    \n",
    "\"\"\"\n",
    "    #Merge de 3 tablas\n",
    "    mez = valoraciones.merge(peliculas, left_on= \"pid\", right_on= \"id\")\n",
    "    mez = mez.merge(usuarios, left_on= \"uid\", right_on= \"id\")\n",
    "    #Pivot_table\n",
    "    table = pd.pivot_table(mez, values=\"valoracion\", index=[\"titulo\"], columns=\"genero\", fill_value=0.0)\n",
    "    print(table)\n",
    "\n",
    "puntuacion_media_2()"
   ]
  }
 ],
 "metadata": {
  "anaconda-cloud": {},
  "kernelspec": {
   "display_name": "Python 3.9.12 ('base')",
   "language": "python",
   "name": "python3"
  },
  "language_info": {
   "codemirror_mode": {
    "name": "ipython",
    "version": 3
   },
   "file_extension": ".py",
   "mimetype": "text/x-python",
   "name": "python",
   "nbconvert_exporter": "python",
   "pygments_lexer": "ipython3",
   "version": "3.9.12"
  },
  "nbTranslate": {
   "displayLangs": [
    "en",
    "es"
   ],
   "hotkey": "alt-t",
   "langInMainMenu": true,
   "sourceLang": "es",
   "targetLang": "en",
   "useGoogleTranslate": true
  },
  "toc": {
   "nav_menu": {},
   "number_sections": true,
   "sideBar": true,
   "skip_h1_title": false,
   "title_cell": "Table of Contents",
   "title_sidebar": "Contents",
   "toc_cell": false,
   "toc_position": {},
   "toc_section_display": true,
   "toc_window_display": false
  },
  "vscode": {
   "interpreter": {
    "hash": "9e0a97f2daff7e0bcfbe0dd6d99e172a30380cb9ede1c634779a9bc8dc62e3c6"
   }
  }
 },
 "nbformat": 4,
 "nbformat_minor": 1
}
