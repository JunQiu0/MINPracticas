{
 "cells": [
  {
   "cell_type": "markdown",
   "metadata": {},
   "source": [
    "<div id=\"navegacion\" prev=\"../Ejercicios_Tema_2/ej1.html\" \n",
    "                     next=\"\"></div>\n",
    "\n",
    "<div class=\"section-title\">Sección 2.9</div>"
   ]
  },
  {
   "cell_type": "markdown",
   "metadata": {},
   "source": [
    "#  Ejercicios "
   ]
  },
  {
   "cell_type": "markdown",
   "metadata": {},
   "source": [
    "##  Ejercicio 1"
   ]
  },
  {
   "cell_type": "markdown",
   "metadata": {},
   "source": [
    "Dada la lista L = [ 'a', 'b', 'c', 4, 5, 6, 7, 8, 9 ], escribe expresiones en Python que produzcan los siguientes resultados:\n",
    "\n",
    "1. El primer elemento de la lista.\n",
    "2. El último elemento de la lista (Sin conocer la longitud de la lista).\n",
    "3. La sublista con los dos últimos elementos. \n",
    "4. La sublista de los elementos que ocupan posiciones pares. \n",
    "4. La sublista de los elementos que ocupan posiciones impares. "
   ]
  },
  {
   "cell_type": "code",
   "execution_count": 2,
   "metadata": {
    "ExecuteTime": {
     "end_time": "2018-10-25T16:05:07.107351Z",
     "start_time": "2018-10-25T16:05:07.102366Z"
    }
   },
   "outputs": [],
   "source": [
    "# Sol 1: 'a'\n"
   ]
  },
  {
   "cell_type": "code",
   "execution_count": 2,
   "metadata": {},
   "outputs": [],
   "source": [
    "# Sol 2: 9\n"
   ]
  },
  {
   "cell_type": "code",
   "execution_count": 3,
   "metadata": {},
   "outputs": [],
   "source": [
    "# Sol 3: [8,9]\n"
   ]
  },
  {
   "cell_type": "code",
   "execution_count": 4,
   "metadata": {},
   "outputs": [],
   "source": [
    "# Sol 4:  [ 'a',  'c', 5,  7,  9 ]\n"
   ]
  },
  {
   "cell_type": "code",
   "execution_count": 3,
   "metadata": {
    "ExecuteTime": {
     "end_time": "2018-10-25T16:05:13.741616Z",
     "start_time": "2018-10-25T16:05:13.736631Z"
    }
   },
   "outputs": [],
   "source": [
    "# Sol 5:  [ 'b', 4, 6, 8 ]\n"
   ]
  },
  {
   "cell_type": "markdown",
   "metadata": {},
   "source": [
    "## Ejercicio 2"
   ]
  },
  {
   "cell_type": "markdown",
   "metadata": {},
   "source": [
    "Dado una lista de importes, queremos calcular el % de IVA (por ejemplo 21%) de cada importe. Construye una función llamada `calcular_iva` que reciba como parámetros de entrada una lista de valores numéricos y el % de  IVA a aplicar (valor mayor que 0 y menor que 100). La función devuelve una nueva lista de valores numéricos donde cada valor es el resultado de calcular el % de IVA a los valores de la lista original.\n",
    "\n",
    "Puedes construir la lista resultado de la función mediante *definición por comprensión*.\n",
    "\n",
    "__Nota:__\n",
    "\n",
    "* `calcular_iva([100], 21)`  devuelve como resultado la lista `[21.0]`\n",
    "* `calcular_iva([100, 1000, 200, 150], 21)` devuelve como resultado la lista `[21.0, 210.0, 42.0, 31.5]`\n",
    "* `calcular_iva([100, 1000, 200, 150], 4)` devuelve como resultado la lista `[4.0, 40.0, 8.0, 6.0]`"
   ]
  },
  {
   "cell_type": "code",
   "execution_count": 7,
   "metadata": {
    "ExecuteTime": {
     "end_time": "2019-01-04T11:20:34.692386Z",
     "start_time": "2019-01-04T11:20:34.688417Z"
    }
   },
   "outputs": [],
   "source": [
    "# Sol:\n"
   ]
  },
  {
   "cell_type": "markdown",
   "metadata": {},
   "source": [
    "## Ejercicio 3\n",
    "\n",
    "Los primeros 5 términos de una sucesión son:\n",
    "\n",
    "```\n",
    "[3, 8, 13, 18, 23]\n",
    "```\n",
    "\n",
    "Define una función llamada `sucesion` que reciba un número entero positivo `n` como argumento y genere la lista de los `n` primeros términos de la sucesión. Resuelve el problema aplicando la fórmula $a_n = 3 + 5 * (n-1)$. \n",
    "\n",
    "Puedes construir la lista resultado de la función mediante *definición por comprensión*.\n",
    "\n",
    "__Nota:__\n",
    "\n",
    "* Genera primero los n primeros números comenzando por el 1 y utilizando la función __range__.\n",
    "\n",
    "\n"
   ]
  },
  {
   "cell_type": "code",
   "execution_count": 8,
   "metadata": {
    "ExecuteTime": {
     "end_time": "2019-01-04T11:24:31.646807Z",
     "start_time": "2019-01-04T11:24:31.643337Z"
    }
   },
   "outputs": [],
   "source": [
    "# Sol:\n"
   ]
  },
  {
   "cell_type": "markdown",
   "metadata": {},
   "source": [
    "## Ejercicio 4\n",
    "\n",
    "Dado el diccionario de las ciudades más pobladas de Italia __ciudades__:\n",
    "\n",
    "d =  { 1: 'Roma', 2: 'Milán', 3:'Nápoles', 4:'Turín', 5:'Palermo' ,6: 'Génova',\n",
    "      7:'Bolonia', 8:'Florencia', 9:'Bari', 10:'Catania'}\n",
    "      \n",
    "y la lista __pob__ que contiene información de la cantidad de población en cada ciudad:\n",
    "\n",
    "pob =  [2718768, 1299633, 973132, 908263, 663173, 610887, 372256, 364710, 322511, 298957]\n",
    "\n",
    "Crea un nuevo diccionario donde cada elemento sea de la forma\n",
    "\n",
    "__i: [ciudad,poblacion]__\n",
    "\n",
    "Puedes construir el diccionario mediante *definición por comprensión*."
   ]
  },
  {
   "cell_type": "code",
   "execution_count": 9,
   "metadata": {
    "ExecuteTime": {
     "end_time": "2019-01-04T11:24:34.831338Z",
     "start_time": "2019-01-04T11:24:34.824393Z"
    }
   },
   "outputs": [],
   "source": [
    "pob = [2718768, 1299633, 973132, 908263, 663173, 610887, 372256, 364710, \n",
    "       322511, 298957]\n",
    "d = { 1: 'Roma', 2: 'Milán', 3:'Nápoles', 4:'Turín', 5:'Palermo' ,\n",
    "     6: 'Génova',   \\\n",
    "      7:'Bolonia', 8:'Florencia', 9:'Bari', 10:'Catania'}\n",
    "# Sol\n",
    "\n"
   ]
  },
  {
   "cell_type": "markdown",
   "metadata": {},
   "source": [
    "-------------------"
   ]
  }
 ],
 "metadata": {
  "anaconda-cloud": {},
  "kernelspec": {
   "display_name": "Python 3",
   "language": "python",
   "name": "python3"
  },
  "language_info": {
   "codemirror_mode": {
    "name": "ipython",
    "version": 3
   },
   "file_extension": ".py",
   "mimetype": "text/x-python",
   "name": "python",
   "nbconvert_exporter": "python",
   "pygments_lexer": "ipython3",
   "version": "3.6.6"
  },
  "nbTranslate": {
   "displayLangs": [
    "en",
    "es"
   ],
   "hotkey": "alt-t",
   "langInMainMenu": true,
   "sourceLang": "es",
   "targetLang": "en",
   "useGoogleTranslate": true
  },
  "toc": {
   "nav_menu": {
    "height": "161px",
    "width": "252px"
   },
   "number_sections": true,
   "sideBar": true,
   "skip_h1_title": false,
   "title_cell": "Table of Contents",
   "title_sidebar": "Contents",
   "toc_cell": false,
   "toc_position": {},
   "toc_section_display": "block",
   "toc_window_display": false
  }
 },
 "nbformat": 4,
 "nbformat_minor": 1
}
