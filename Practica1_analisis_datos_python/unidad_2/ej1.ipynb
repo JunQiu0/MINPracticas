{
 "cells": [
  {
   "cell_type": "markdown",
   "metadata": {},
   "source": [
    "<div id=\"navegacion\" prev=\"../Tema_4/t4_funciones_02_pdi.html\" \n",
    "                     next=\"../Ejercicios_Tema_3/ej2.html\"></div>\n",
    "\n",
    "<div class=\"section-title\">Sección 2.8</div>"
   ]
  },
  {
   "cell_type": "markdown",
   "metadata": {},
   "source": [
    "# Ejercicios"
   ]
  },
  {
   "cell_type": "markdown",
   "metadata": {},
   "source": [
    "## Ejercicio 1"
   ]
  },
  {
   "cell_type": "markdown",
   "metadata": {},
   "source": [
    "Escribe el código Python que representa la siguiente expresión:\n",
    "\n",
    "$$\\frac{3}{4} + 2 * ( 5^4 - \\frac{1}{2} )$$\n",
    "\n"
   ]
  },
  {
   "cell_type": "code",
   "execution_count": 7,
   "metadata": {
    "ExecuteTime": {
     "end_time": "2018-10-25T15:59:07.388026Z",
     "start_time": "2018-10-25T15:59:07.384037Z"
    }
   },
   "outputs": [],
   "source": [
    "# Sol:\n",
    "\n"
   ]
  },
  {
   "cell_type": "markdown",
   "metadata": {},
   "source": [
    "Escribe una función en Python llamada __valor_expresion__ que calcule el valor de la expresión:\n",
    "\n",
    "$$\\frac{3}{4} + 2 * ( x^4 - \\frac{1}{2} )$$\n",
    "\n",
    "para un cierto valor de $x$. La función tiene un único argumento posicional de tipo numérico y devuelve el resultado de aplicar la expresión anterior."
   ]
  },
  {
   "cell_type": "code",
   "execution_count": 8,
   "metadata": {
    "ExecuteTime": {
     "end_time": "2018-10-25T15:59:09.517334Z",
     "start_time": "2018-10-25T15:59:09.513371Z"
    }
   },
   "outputs": [],
   "source": [
    "# Sol\n"
   ]
  },
  {
   "cell_type": "markdown",
   "metadata": {},
   "source": [
    "Ejecuta la función __valor_expresion__ para los valores 5 y 3. \n",
    "\n",
    "__Nota:__ \n",
    "\n",
    "* `valor_expresion(5)` devuelve como resultado `1249.75`\n",
    "* `valor_expresion(3)` devuelve como resultado `161.75`"
   ]
  },
  {
   "cell_type": "code",
   "execution_count": 4,
   "metadata": {
    "ExecuteTime": {
     "end_time": "2019-01-04T10:24:09.904689Z",
     "start_time": "2019-01-04T10:24:09.901714Z"
    }
   },
   "outputs": [],
   "source": [
    "# Sol\n"
   ]
  },
  {
   "cell_type": "markdown",
   "metadata": {},
   "source": [
    "## Ejercicio 2"
   ]
  },
  {
   "cell_type": "markdown",
   "metadata": {},
   "source": [
    "Define una función llamada __raiz_cubica__ que devuelva el valor de $\\sqrt[3]{x}$. Recuerda que  $\\sqrt[3]{x}$ = ${x}^{\\frac{1}{3}}$\n"
   ]
  },
  {
   "cell_type": "markdown",
   "metadata": {},
   "source": [
    "__Nota:__ \n",
    "\n",
    "* `raiz_cubica(5)` devuelve como resultado `1.7099759466766968`"
   ]
  },
  {
   "cell_type": "code",
   "execution_count": 5,
   "metadata": {
    "ExecuteTime": {
     "end_time": "2019-01-04T10:26:28.819954Z",
     "start_time": "2019-01-04T10:26:28.816978Z"
    }
   },
   "outputs": [],
   "source": [
    "# Sol:\n",
    "    "
   ]
  },
  {
   "cell_type": "markdown",
   "metadata": {},
   "source": [
    "## Ejercicio 3"
   ]
  },
  {
   "cell_type": "markdown",
   "metadata": {},
   "source": [
    "Escribe una función llamada __pertenencia__ que reciba dos parámetros de entrada. El primer parámetro es una lista de elementos y el segundo es un elemento. La función devuelve el valor `True` si el elemento se encuentra en la lista. En otro caso devuelve `False`. \n",
    "\n",
    "* Puedes usar la instrucción `if-else` \n",
    "* Puedes usar la función `in` para saber si un elemento está en una secuencia\n",
    "\n",
    "__Nota:__\n",
    "\n",
    "* `pertenencia([1, 3, 6], 1)` devuelve el valor `True`\n",
    "* `pertenencia([1, 3, 6], 5)` devuelve el valor `False`\n",
    "* `pertenencia([1,'Hi', 6, 'Hola'] , 'Hola')` devuelve el valor `True`"
   ]
  },
  {
   "cell_type": "code",
   "execution_count": 7,
   "metadata": {
    "ExecuteTime": {
     "end_time": "2019-01-04T10:38:06.252994Z",
     "start_time": "2019-01-04T10:38:06.249525Z"
    }
   },
   "outputs": [],
   "source": [
    "# Sol:\n"
   ]
  },
  {
   "cell_type": "markdown",
   "metadata": {},
   "source": [
    "## Ejercicio 4"
   ]
  },
  {
   "cell_type": "markdown",
   "metadata": {},
   "source": [
    "La función `upper` del tipo string (`str`) genera una nueva cadena de caracteres, donde todos los caracteres son mayúsculas.\n",
    "Ejecuta la siguente celda para ver el efecto de la función `upper` al aplicarlo sobre la cadena `s`:"
   ]
  },
  {
   "cell_type": "code",
   "execution_count": 11,
   "metadata": {
    "ExecuteTime": {
     "end_time": "2019-01-04T11:16:22.586710Z",
     "start_time": "2019-01-04T11:16:22.579263Z"
    }
   },
   "outputs": [
    {
     "data": {
      "text/plain": [
       "'HOLA, ME LLAMO IÑIGO MONTOYA, TÚ MATASTE A MI PADRE. ... PREPÁRATE A MORIR'"
      ]
     },
     "execution_count": 11,
     "metadata": {},
     "output_type": "execute_result"
    }
   ],
   "source": [
    "s = 'Hola, me llamo Iñigo Montoya, tú mataste a mi padre. ... Prepárate a morir'\n",
    "s.upper()"
   ]
  },
  {
   "cell_type": "markdown",
   "metadata": {},
   "source": [
    "Fíjate que `upper` no modifica la cadena (las cadenas son inmutables), sino que devuelve otra cadena diferente."
   ]
  },
  {
   "cell_type": "code",
   "execution_count": 12,
   "metadata": {
    "ExecuteTime": {
     "end_time": "2019-01-04T11:16:23.544953Z",
     "start_time": "2019-01-04T11:16:23.539992Z"
    }
   },
   "outputs": [
    {
     "data": {
      "text/plain": [
       "'Hola, me llamo Iñigo Montoya, tú mataste a mi padre. ... Prepárate a morir'"
      ]
     },
     "execution_count": 12,
     "metadata": {},
     "output_type": "execute_result"
    }
   ],
   "source": [
    "s    # la cadena s no cambia de valor"
   ]
  },
  {
   "cell_type": "markdown",
   "metadata": {},
   "source": [
    "Para guardar el resultado de `upper` usamos la asignación:"
   ]
  },
  {
   "cell_type": "code",
   "execution_count": 13,
   "metadata": {
    "ExecuteTime": {
     "end_time": "2019-01-04T11:16:24.597465Z",
     "start_time": "2019-01-04T11:16:24.593001Z"
    }
   },
   "outputs": [],
   "source": [
    "t = s.upper()"
   ]
  },
  {
   "cell_type": "markdown",
   "metadata": {},
   "source": [
    "Podemos  preguntar por el contenido de `t`:"
   ]
  },
  {
   "cell_type": "code",
   "execution_count": 14,
   "metadata": {
    "ExecuteTime": {
     "end_time": "2019-01-04T11:16:32.364884Z",
     "start_time": "2019-01-04T11:16:32.360423Z"
    }
   },
   "outputs": [
    {
     "data": {
      "text/plain": [
       "'HOLA, ME LLAMO IÑIGO MONTOYA, TÚ MATASTE A MI PADRE. ... PREPÁRATE A MORIR'"
      ]
     },
     "execution_count": 14,
     "metadata": {},
     "output_type": "execute_result"
    }
   ],
   "source": [
    "t"
   ]
  },
  {
   "cell_type": "markdown",
   "metadata": {},
   "source": [
    "* Genera una cadena `t`  igual que  `s`  pero en minúsculas (función `lower`). Calcula la longitud de `t`.\n",
    "* Ejecuta la función  `split(',')`. Fíjate en lo que devuelve esa función. \n",
    "* Ejecuta la función  `title()`.\n",
    "* Ejecuta la función  `replace(' ', '_')`. Fíjate en lo que devuelve esa función.\n",
    "* Ejecuta `dir(str)` para listar las funciones disponibles para trabajar con cadenas."
   ]
  },
  {
   "cell_type": "code",
   "execution_count": null,
   "metadata": {},
   "outputs": [],
   "source": [
    "# Sol: \n",
    "\n"
   ]
  },
  {
   "cell_type": "markdown",
   "metadata": {},
   "source": [
    "--------------------"
   ]
  }
 ],
 "metadata": {
  "anaconda-cloud": {},
  "kernelspec": {
   "display_name": "Python 3",
   "language": "python",
   "name": "python3"
  },
  "language_info": {
   "codemirror_mode": {
    "name": "ipython",
    "version": 3
   },
   "file_extension": ".py",
   "mimetype": "text/x-python",
   "name": "python",
   "nbconvert_exporter": "python",
   "pygments_lexer": "ipython3",
   "version": "3.6.6"
  },
  "nbTranslate": {
   "displayLangs": [
    "en",
    "es"
   ],
   "hotkey": "alt-t",
   "langInMainMenu": true,
   "sourceLang": "es",
   "targetLang": "en",
   "useGoogleTranslate": true
  },
  "toc": {
   "nav_menu": {
    "height": "86px",
    "width": "252px"
   },
   "number_sections": true,
   "sideBar": true,
   "skip_h1_title": false,
   "title_cell": "Table of Contents",
   "title_sidebar": "Contents",
   "toc_cell": false,
   "toc_position": {},
   "toc_section_display": "block",
   "toc_window_display": false
  }
 },
 "nbformat": 4,
 "nbformat_minor": 1
}
